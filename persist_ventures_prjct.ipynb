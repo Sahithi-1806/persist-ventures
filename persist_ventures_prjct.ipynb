{
  "nbformat": 4,
  "nbformat_minor": 0,
  "metadata": {
    "colab": {
      "provenance": []
    },
    "kernelspec": {
      "name": "python3",
      "display_name": "Python 3"
    },
    "language_info": {
      "name": "python"
    }
  },
  "cells": [
    {
      "cell_type": "code",
      "execution_count": 159,
      "metadata": {
        "colab": {
          "base_uri": "https://localhost:8080/"
        },
        "id": "8JC57TGZZtyk",
        "outputId": "c8e1c17e-a5c7-493e-c29d-01dd7c115ade"
      },
      "outputs": [
        {
          "output_type": "stream",
          "name": "stdout",
          "text": [
            "Requirement already satisfied: python-telegram-bot==13.14 in /usr/local/lib/python3.10/dist-packages (13.14)\n",
            "Requirement already satisfied: certifi in /usr/local/lib/python3.10/dist-packages (from python-telegram-bot==13.14) (2024.7.4)\n",
            "Requirement already satisfied: tornado==6.1 in /usr/local/lib/python3.10/dist-packages (from python-telegram-bot==13.14) (6.1)\n",
            "Requirement already satisfied: APScheduler==3.6.3 in /usr/local/lib/python3.10/dist-packages (from python-telegram-bot==13.14) (3.6.3)\n",
            "Requirement already satisfied: pytz>=2018.6 in /usr/local/lib/python3.10/dist-packages (from python-telegram-bot==13.14) (2024.1)\n",
            "Requirement already satisfied: cachetools==4.2.2 in /usr/local/lib/python3.10/dist-packages (from python-telegram-bot==13.14) (4.2.2)\n",
            "Requirement already satisfied: setuptools>=0.7 in /usr/local/lib/python3.10/dist-packages (from APScheduler==3.6.3->python-telegram-bot==13.14) (71.0.4)\n",
            "Requirement already satisfied: six>=1.4.0 in /usr/local/lib/python3.10/dist-packages (from APScheduler==3.6.3->python-telegram-bot==13.14) (1.16.0)\n",
            "Requirement already satisfied: tzlocal>=1.2 in /usr/local/lib/python3.10/dist-packages (from APScheduler==3.6.3->python-telegram-bot==13.14) (5.2)\n"
          ]
        }
      ],
      "source": [
        "!pip install python-telegram-bot==13.14"
      ]
    },
    {
      "cell_type": "code",
      "source": [
        "from telegram.ext.updater import Updater\n",
        "from telegram.update import Update\n",
        "from telegram.ext.callbackcontext import CallbackContext\n",
        "from telegram.ext.commandhandler import CommandHandler\n",
        "from telegram.ext.messagehandler import MessageHandler\n",
        "from telegram.ext.filters import Filters\n",
        "from telegram import InlineKeyboardButton, InlineKeyboardMarkup\n",
        "from telegram.ext import CallbackQueryHandler"
      ],
      "metadata": {
        "id": "bWSAZhe3ZxyM"
      },
      "execution_count": 160,
      "outputs": []
    },
    {
      "cell_type": "code",
      "source": [
        "updater = Updater(\"7040265053:AAGoRebtE5hpdZThTWgRLsps2ZoKam2-Cp0\",\n",
        "\t\t\t\tuse_context=True)\n"
      ],
      "metadata": {
        "id": "SVCZbwJYaPS8"
      },
      "execution_count": 161,
      "outputs": []
    },
    {
      "cell_type": "code",
      "source": [
        "def Hi(update: Update, context: CallbackContext):\n",
        "\tupdate.message.reply_text(\n",
        "\t\t\"Hello!I am AI biden\")"
      ],
      "metadata": {
        "id": "1KumsO40aaG_"
      },
      "execution_count": 162,
      "outputs": []
    },
    {
      "cell_type": "code",
      "source": [
        "def bye(update: Update, context: CallbackContext):\n",
        "\tupdate.message.reply_text(\n",
        "\t\t\"It was great talking to you\")"
      ],
      "metadata": {
        "id": "tLrVw2s6acPJ"
      },
      "execution_count": 163,
      "outputs": []
    },
    {
      "cell_type": "code",
      "source": [
        "def help(update: Update, context: CallbackContext):\n",
        "\tupdate.message.reply_text(\"how can i help you\")"
      ],
      "metadata": {
        "id": "U1mVq1VgaeD6"
      },
      "execution_count": 164,
      "outputs": []
    },
    {
      "cell_type": "code",
      "source": [
        "def gmail_url(update: Update, context: CallbackContext):\n",
        "\tupdate.message.reply_text(\"lakshmisahithi2003@gmail.com\")\n",
        "\n",
        "\n",
        "def youtube_url(update: Update, context: CallbackContext):\n",
        "\tupdate.message.reply_text(\"https://youtu.be/5puu3kN9l7c?si=_UN0X6DCGt55Rtnj\")\n",
        "\n",
        "\n",
        "def linkedIn_url(update: Update, context: CallbackContext):\n",
        "\tupdate.message.reply_text(\"https://www.linkedin.com/in/biden-joe-4937b7308\")\n",
        "\n",
        "\n",
        "def geeks_url(update: Update, context: CallbackContext):\n",
        "\tupdate.message.reply_text(\"https://www.geeksforgeeks.org/joe-biden-net-worth/\")\n",
        "\n",
        "\n",
        "def unknown_text(update: Update, context: CallbackContext):\n",
        "\tupdate.message.reply_text(\n",
        "\t\t\"Sorry I can't recognize you , you said '%s'\" % update.message.text)\n",
        "\n",
        "def unknown(update: Update, context: CallbackContext):\n",
        "    update.message.reply_text(\n",
        "        \"Sorry '%s' is not a valid command\" % update.message.text)\n",
        "\n",
        "def start(update: Update, context: CallbackContext):\n",
        "    keyboard = [\n",
        "        [InlineKeyboardButton(\"Biden Speech\", callback_data='biden')],\n",
        "        [InlineKeyboardButton(\"biden health\", callback_data='supreme')],\n",
        "        [InlineKeyboardButton(\"gaffie machine\", callback_data='america')],\n",
        "        [InlineKeyboardButton(\"jobs & moms-funny\", callback_data='president')]\n",
        "    ]\n",
        "    reply_markup = InlineKeyboardMarkup(keyboard)\n",
        "    update.message.reply_text(\"Hello! I am AI Biden. Please choose a topic:\", reply_markup=reply_markup)\n",
        "\n",
        "def button(update: Update, context: CallbackContext):\n",
        "    query = update.callback_query\n",
        "    query.answer()\n",
        "    topic = query.data\n",
        "    query.message.reply_text(\"Here is your requested video\")\n",
        "\n",
        "    # Dictionary to map topics to video file paths\n",
        "    topic_videos = {\n",
        "        'biden': 'biden1.mp4',\n",
        "        'supreme': 'biden health.mp4',\n",
        "        'america': 'gaffie machine.mp4',\n",
        "        'president': 'jobs&moms-funny video.mp4'\n",
        "    }\n",
        "\n",
        "\n",
        "\n",
        "    # Check if the topic exists in the dictionary\n",
        "    if topic in topic_videos:\n",
        "        try:\n",
        "            context.bot.send_video(chat_id=query.message.chat_id, video=open(topic_videos[topic], 'rb'))\n",
        "        except Exception as e:\n",
        "            query.message.reply_text(f\"Error: {str(e)}\")\n",
        "    else:\n",
        "        query.message.reply_text(\"Sorry, I don't have a video for that question.\")\n"
      ],
      "metadata": {
        "id": "Qe84kmh9agEU"
      },
      "execution_count": 168,
      "outputs": []
    },
    {
      "cell_type": "code",
      "source": [
        "updater.dispatcher.add_handler(CommandHandler('Hi', Hi))\n",
        "updater.dispatcher.add_handler(CommandHandler('bye', bye))\n",
        "updater.dispatcher.add_handler(CommandHandler('youtube', youtube_url))\n",
        "updater.dispatcher.add_handler(CommandHandler('help', help))\n",
        "updater.dispatcher.add_handler(CommandHandler('linkedin', linkedIn_url))\n",
        "updater.dispatcher.add_handler(CommandHandler('gmail', gmail_url))\n",
        "updater.dispatcher.add_handler(CommandHandler('geeks', geeks_url))\n",
        "updater.dispatcher.add_handler(CommandHandler('start', start))\n",
        "updater.dispatcher.add_handler(CallbackQueryHandler(button))\n",
        "\n",
        "updater.dispatcher.add_handler(MessageHandler(Filters.text, unknown))\n",
        "# Filters out unknown messages.\n",
        "updater.dispatcher.add_handler(MessageHandler(Filters.text, unknown_text))"
      ],
      "metadata": {
        "id": "K74YEMY5ajoF"
      },
      "execution_count": 166,
      "outputs": []
    },
    {
      "cell_type": "code",
      "source": [
        "updater.start_polling()"
      ],
      "metadata": {
        "id": "walzDGHRankC"
      },
      "execution_count": 169,
      "outputs": []
    },
    {
      "cell_type": "code",
      "source": [],
      "metadata": {
        "id": "E92zXYq2xx4O"
      },
      "execution_count": null,
      "outputs": []
    },
    {
      "cell_type": "code",
      "source": [
        "updater.stop()"
      ],
      "metadata": {
        "id": "CbeROoTtapV1"
      },
      "execution_count": null,
      "outputs": []
    },
    {
      "cell_type": "code",
      "source": [],
      "metadata": {
        "id": "NHHzGs4Woe6Q"
      },
      "execution_count": null,
      "outputs": []
    }
  ]
}